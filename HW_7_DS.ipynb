{
  "nbformat": 4,
  "nbformat_minor": 0,
  "metadata": {
    "colab": {
      "provenance": []
    },
    "kernelspec": {
      "name": "python3",
      "display_name": "Python 3"
    },
    "language_info": {
      "name": "python"
    }
  },
  "cells": [
    {
      "cell_type": "code",
      "execution_count": 2,
      "metadata": {
        "colab": {
          "base_uri": "https://localhost:8080/"
        },
        "id": "NPd-74Z6RuZY",
        "outputId": "d18f38fc-1b62-4bf4-b47e-3cd96b51c61c"
      },
      "outputs": [
        {
          "output_type": "stream",
          "name": "stdout",
          "text": [
            "Collecting scikit-surprise\n",
            "  Downloading scikit-surprise-1.1.3.tar.gz (771 kB)\n",
            "\u001b[2K     \u001b[90m━━━━━━━━━━━━━━━━━━━━━━━━━━━━━━━━━━━━━━━━\u001b[0m \u001b[32m772.0/772.0 kB\u001b[0m \u001b[31m3.5 MB/s\u001b[0m eta \u001b[36m0:00:00\u001b[0m\n",
            "\u001b[?25h  Preparing metadata (setup.py) ... \u001b[?25l\u001b[?25hdone\n",
            "Requirement already satisfied: joblib>=1.0.0 in /usr/local/lib/python3.10/dist-packages (from scikit-surprise) (1.3.2)\n",
            "Requirement already satisfied: numpy>=1.17.3 in /usr/local/lib/python3.10/dist-packages (from scikit-surprise) (1.23.5)\n",
            "Requirement already satisfied: scipy>=1.3.2 in /usr/local/lib/python3.10/dist-packages (from scikit-surprise) (1.11.4)\n",
            "Building wheels for collected packages: scikit-surprise\n",
            "  Building wheel for scikit-surprise (setup.py) ... \u001b[?25l\u001b[?25hdone\n",
            "  Created wheel for scikit-surprise: filename=scikit_surprise-1.1.3-cp310-cp310-linux_x86_64.whl size=3163765 sha256=9fdfc63bf5c1d3c55575ff456048f7ac5a936b372dd33bd14e3137d2754f651d\n",
            "  Stored in directory: /root/.cache/pip/wheels/a5/ca/a8/4e28def53797fdc4363ca4af740db15a9c2f1595ebc51fb445\n",
            "Successfully built scikit-surprise\n",
            "Installing collected packages: scikit-surprise\n",
            "Successfully installed scikit-surprise-1.1.3\n"
          ]
        }
      ],
      "source": [
        "!pip install scikit-surprise"
      ]
    },
    {
      "cell_type": "code",
      "source": [
        "from surprise import Dataset, Reader\n",
        "from surprise.model_selection import cross_validate, GridSearchCV\n",
        "from surprise.prediction_algorithms import SVD, SVDpp, NMF"
      ],
      "metadata": {
        "id": "tKewmAPDSUiP"
      },
      "execution_count": 3,
      "outputs": []
    },
    {
      "cell_type": "code",
      "source": [
        "data = Dataset.load_builtin('ml-100k')\n",
        "\n",
        "algorithms = [SVD(), SVDpp(), NMF()]\n",
        "\n",
        "for algo in algorithms:\n",
        "    results = cross_validate(algo, data, measures=['RMSE'], cv=3, verbose=True)\n",
        "    print(f'RMSE for {algo}: {results[\"test_rmse\"].mean()}')"
      ],
      "metadata": {
        "colab": {
          "base_uri": "https://localhost:8080/"
        },
        "id": "wUx9jKKaSWtJ",
        "outputId": "e2c4ea8a-4f07-4f9d-fa94-1814e5532a8b"
      },
      "execution_count": 9,
      "outputs": [
        {
          "output_type": "stream",
          "name": "stdout",
          "text": [
            "Evaluating RMSE of algorithm SVD on 3 split(s).\n",
            "\n",
            "                  Fold 1  Fold 2  Fold 3  Mean    Std     \n",
            "RMSE (testset)    0.9428  0.9421  0.9458  0.9436  0.0016  \n",
            "Fit time          1.63    1.23    1.22    1.36    0.19    \n",
            "Test time         0.39    0.26    0.24    0.29    0.07    \n",
            "RMSE for <surprise.prediction_algorithms.matrix_factorization.SVD object at 0x782b50b84eb0>: 0.943564560770136\n",
            "Evaluating RMSE of algorithm SVDpp on 3 split(s).\n",
            "\n",
            "                  Fold 1  Fold 2  Fold 3  Mean    Std     \n",
            "RMSE (testset)    0.9259  0.9326  0.9255  0.9280  0.0032  \n",
            "Fit time          18.51   18.90   18.53   18.65   0.18    \n",
            "Test time         7.27    7.17    7.12    7.19    0.06    \n",
            "RMSE for <surprise.prediction_algorithms.matrix_factorization.SVDpp object at 0x782b50b87a60>: 0.9280141909929284\n",
            "Evaluating RMSE of algorithm NMF on 3 split(s).\n",
            "\n",
            "                  Fold 1  Fold 2  Fold 3  Mean    Std     \n",
            "RMSE (testset)    0.9721  0.9699  0.9786  0.9735  0.0037  \n",
            "Fit time          1.85    1.79    1.84    1.83    0.03    \n",
            "Test time         0.29    0.30    0.34    0.31    0.02    \n",
            "RMSE for <surprise.prediction_algorithms.matrix_factorization.NMF object at 0x782b50b866b0>: 0.9735303711842676\n"
          ]
        }
      ]
    }
  ]
}